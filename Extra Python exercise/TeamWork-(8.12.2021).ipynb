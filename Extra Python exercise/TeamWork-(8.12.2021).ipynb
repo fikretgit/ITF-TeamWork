{
 "cells": [
  {
   "cell_type": "markdown",
   "metadata": {},
   "source": [
    "<center><img src=\"https://github.com/aaron-clarusway/fullstack/blob/master/itf-logo.png?raw=true\"  alt=\"alt text\" width=\"200\"/></center>\n",
    "<br>\n",
    "<h1><p style=\"text-align: center; color:darkblue\">Python Basic & Plus</p><h1>\n",
    "<center><h1>Workshop - 4</h1></center>\n",
    "<p><img align=\"right\"\n",
    "  src=\"https://secure.meetupstatic.com/photos/event/3/1/b/9/600_488352729.jpeg\"  width=\"15px\"></p>\n",
    "<br>\n",
    "\n",
    "\n",
    "# Subject: Collections - Control Flow Statements - Functions"
   ]
  },
  {
   "cell_type": "markdown",
   "metadata": {},
   "source": [
    "## Coding Challenge -1 : Palindrome\n",
    "\n",
    "Purpose of the this coding challenge is to solve a control flow statements issue.\n",
    "\n",
    "### Learning Outcomes\n",
    "\n",
    "At the end of the this coding challenge, students will be able to;\n",
    "\n",
    "- understand the use of loops.\n",
    "- understand the importance of alphanumeric string methods.\n",
    "- get a better understanding in manipulating strings.\n",
    "\n",
    "### Problem Statement\n",
    "  \n",
    "- Write a function/functions that checks whether the sentence you get from the user is a **palindrome**. (Do not consider punctuation and special characters. Only consider \"***alphanumeric***\" characters.)\n",
    "\n",
    "\n",
    "```bash\n",
    "input : \"ey edip adana'da, pide ye!\"\n",
    "\n",
    "output : \"ey edip adana'da, pide ye!\" is a palindrome\n",
    "\n",
    "input : \"Was it a car or a cat I saw?\"\n",
    "\n",
    "output : \"Was it a car or a cat I saw?\" is a palindrome\n",
    "```"
   ]
  },
  {
   "cell_type": "markdown",
   "metadata": {},
   "source": [
    "### Solution :"
   ]
  },
  {
   "cell_type": "code",
   "execution_count": 81,
   "metadata": {},
   "outputs": [
    {
     "name": "stdout",
     "output_type": "stream",
     "text": [
      "the input you gave us is a PALİDROME!\n"
     ]
    }
   ],
   "source": [
    "input = \"ey edip adana'da, pide ye!\"\n",
    "new_in = \"\".join(input.replace(\",\", \"\").replace(\"'\", \" \").replace(\"!\", \" \").replace(\"?\", \" \").lower().split())\n",
    "\n",
    "if new_in == new_in[::-1]:\n",
    "    print(\"the input you gave us is a PALİDROME!\")\n",
    "else:\n",
    "    print(\"the input you gave us is not a PALİDROME!\")\n",
    "\n"
   ]
  },
  {
   "cell_type": "markdown",
   "metadata": {},
   "source": [
    "## Coding Challenge - 2: Sudoku Format Converter&Printer\n",
    "\n",
    "The purpose of this coding challenge is to write a program that prints the given lists as sudoku looking format.\n",
    "\n",
    "### Learning Outcomes\n",
    "\n",
    "At the end of this coding challenge, students will be able to;\n",
    "\n",
    "- analyze a problem, identify, and apply programming knowledge for appropriate solution.\n",
    "\n",
    "- design, implement `arithmetic operators` and nested loops effectively in Python to solve the given problem.\n",
    "\n",
    "- demonstrate their knowledge of algorithmic design principles by solving the problem effectively.\n",
    "\n",
    "### Problem Statement\n",
    "\n",
    "<div class=\"alert alert-block alert-info\">\n",
    "    <b>💡Objective:</b>\n",
    "    <ul>\n",
    "        <li>To improve your <b>control flow statement</b> skills.</li>\n",
    "    </ul>\n",
    "</div>\n",
    "\n",
    "<hr>\n",
    "<p><b>Task:</b> The department you work for has received a project that displays the solved sudoku puzzles in a digital environment.&nbsp;</p>\n",
    "<p></p>\n",
    "<p></p>\n",
    "<ul>\n",
    "    <li>Write a Python code to print out the given <code>sudoku</code> puzzle matrix in the following format.</li>\n",
    "</ul>\n",
    "<b>Given format :</b><br>\n",
    "<ol>\n",
    "</ol>\n",
    "<p>\n",
    "</p>\n",
    "<div>\n",
    "    <pre>sudoku&nbsp;=&nbsp;[<br>&nbsp;&nbsp;&nbsp;&nbsp;[0,&nbsp;0,&nbsp;0,&nbsp;0,&nbsp;6,&nbsp;4,&nbsp;0,&nbsp;0,&nbsp;0],<br>&nbsp;&nbsp;&nbsp;&nbsp;[7,&nbsp;0,&nbsp;0,&nbsp;0,&nbsp;0,&nbsp;0,&nbsp;3,&nbsp;9,&nbsp;0],<br>&nbsp;&nbsp;&nbsp;&nbsp;[8,&nbsp;0,&nbsp;0,&nbsp;0,&nbsp;0,&nbsp;0,&nbsp;0,&nbsp;0,&nbsp;0],<br>&nbsp;&nbsp;&nbsp;&nbsp;[0,&nbsp;0,&nbsp;0,&nbsp;5,&nbsp;0,&nbsp;2,&nbsp;0,&nbsp;6,&nbsp;0],<br>&nbsp;&nbsp;&nbsp;&nbsp;[0,&nbsp;8,&nbsp;0,&nbsp;4,&nbsp;0,&nbsp;0,&nbsp;0,&nbsp;0,&nbsp;0],<br>&nbsp;&nbsp;&nbsp;&nbsp;[3,&nbsp;5,&nbsp;0,&nbsp;6,&nbsp;0,&nbsp;0,&nbsp;0,&nbsp;7,&nbsp;0],<br>&nbsp;&nbsp;&nbsp;&nbsp;[0,&nbsp;0,&nbsp;2,&nbsp;0,&nbsp;0,&nbsp;0,&nbsp;1,&nbsp;0,&nbsp;3],<br>&nbsp;&nbsp;&nbsp;&nbsp;[0,&nbsp;0,&nbsp;1,&nbsp;0,&nbsp;5,&nbsp;9,&nbsp;0,&nbsp;0,&nbsp;0],<br>&nbsp;&nbsp;&nbsp;&nbsp;[0,&nbsp;0,&nbsp;0,&nbsp;0,&nbsp;0,&nbsp;0,&nbsp;7,&nbsp;0,&nbsp;0]<br>]</pre>\n",
    "    <div>\n",
    "        <b>Desired output format :</b><br>\n",
    "        <ol>\n",
    "        </ol>\n",
    "    </div>\n",
    "    <pre>- - - - - - - - - - - - - - - \n",
    "0  0  0  | 0  6  4  | 0  0  0  \n",
    "7  0  0  | 0  0  0  | 3  9  0  \n",
    "8  0  0  | 0  0  0  | 0  0  0  \n",
    "- - - - - - - - - - - - - - - \n",
    "0  0  0  | 5  0  2  | 0  6  0  \n",
    "0  8  0  | 4  0  0  | 0  0  0  \n",
    "3  5  0  | 6  0  0  | 0  7  0  \n",
    "- - - - - - - - - - - - - - - \n",
    "0  0  2  | 0  0  0  | 1  0  3  \n",
    "0  0  1  | 0  5  9  | 0  0  0  \n",
    "0  0  0  | 0  0  0  | 7  0  0  \n",
    "- - - - - - - - - - - - - - -</pre>\n",
    "</div><br>\n",
    "<p></p>\n",
    "<p></p>\n",
    "<hr>\n",
    "<p><i><b>Note that</b>; <br></i></p>\n",
    "<ul>\n",
    "    <li><i><i>Use not more than \"<b>control flow statement and boolean logic operators</b>\" in solving this code problem. </i></i>\n",
    "    </li>\n",
    "    <li><i><i>The output which we expect from you is only a new output format above. </i></i>\n",
    "    </li>\n",
    "    <li><i><i>We don't expect a sudoku puzzle solver from you.</i></i>\n",
    "    </li>\n",
    "</ul>\n",
    "<p></p>"
   ]
  },
  {
   "cell_type": "markdown",
   "metadata": {},
   "source": [
    "### Solution :"
   ]
  },
  {
   "cell_type": "code",
   "execution_count": 123,
   "metadata": {},
   "outputs": [
    {
     "name": "stdout",
     "output_type": "stream",
     "text": [
      "- - - - - - - - - - - - - - - -\n",
      "0  0  0  |  0  6  4  |  0  0  0  \n",
      "7  0  0  |  0  0  0  |  3  9  0  \n",
      "8  0  0  |  0  0  0  |  0  0  0  \n",
      "- - - - - - - - - - - - - - - -\n",
      "0  0  0  |  5  0  2  |  0  6  0  \n",
      "0  8  0  |  4  0  0  |  0  0  0  \n",
      "3  5  0  |  6  0  0  |  0  7  0  \n",
      "- - - - - - - - - - - - - - - -\n",
      "0  0  2  |  0  0  0  |  1  0  3  \n",
      "0  0  1  |  0  5  9  |  0  0  0  \n",
      "0  0  0  |  0  0  0  |  7  0  0  \n",
      "- - - - - - - - - - - - - - - -\n"
     ]
    }
   ],
   "source": [
    "sudoku = [\n",
    "    [0, 0, 0, 0, 6, 4, 0, 0, 0],\n",
    "    [7, 0, 0, 0, 0, 0, 3, 9, 0],\n",
    "    [8, 0, 0, 0, 0, 0, 0, 0, 0],\n",
    "    [0, 0, 0, 5, 0, 2, 0, 6, 0],\n",
    "    [0, 8, 0, 4, 0, 0, 0, 0, 0],\n",
    "    [3, 5, 0, 6, 0, 0, 0, 7, 0],\n",
    "    [0, 0, 2, 0, 0, 0, 1, 0, 3],\n",
    "    [0, 0, 1, 0, 5, 9, 0, 0, 0],\n",
    "    [0, 0, 0, 0, 0, 0, 7, 0, 0]\n",
    "]\n",
    "\n",
    "\n",
    "count = 0\n",
    "print(\"- - - - - - - - - - - - - - - -\")     \n",
    "\n",
    "for i in sudoku:\n",
    "    for j in i:\n",
    "        print(j, end=\"  \")\n",
    "        count += 1\n",
    "        if count % 3 == 0 and count % 9 != 0:\n",
    "            print(\"|\", end=\"  \")\n",
    "    print()\n",
    "    if count % 27 == 0:   \n",
    "        print(\"- - - - - - - - - - - - - - - -\")     \n",
    "    \n",
    "    \n",
    " \n",
    "                \n"
   ]
  },
  {
   "cell_type": "code",
   "execution_count": 27,
   "metadata": {},
   "outputs": [
    {
     "name": "stdout",
     "output_type": "stream",
     "text": [
      "not jelly\n"
     ]
    }
   ],
   "source": [
    "def not_string(word):\n",
    "    if \"not\" in word:\n",
    "        return word\n",
    "    else:\n",
    "        return \"not\" +\" \"+ word\n",
    "print(not_string(\"jelly\"))"
   ]
  },
  {
   "cell_type": "code",
   "execution_count": 32,
   "metadata": {},
   "outputs": [
    {
     "data": {
      "text/plain": [
       "'kitcen'"
      ]
     },
     "execution_count": 32,
     "metadata": {},
     "output_type": "execute_result"
    }
   ],
   "source": [
    "def missing_char(word, n):\n",
    "    word = word.replace(word[n], \"\")\n",
    "    return word\n",
    "        \n",
    "missing_char(\"kitchen\", 4)"
   ]
  },
  {
   "cell_type": "code",
   "execution_count": 129,
   "metadata": {},
   "outputs": [
    {
     "name": "stdout",
     "output_type": "stream",
     "text": [
      "[1, 2, 'Fizz', 4, 'Buzz', 'Fizz', 7, 8, 'Fizz', 'Buzz', 11, 'Fizz', 13, 14, 'FizzBuzz', 16, 17, 'Fizz', 19, 'Buzz', 'Fizz', 22, 23, 'Fizz', 'Buzz', 26, 'Fizz', 28, 29, 'FizzBuzz', 31, 32, 'Fizz', 34, 'Buzz', 'Fizz', 37, 38, 'Fizz', 'Buzz', 41, 'Fizz', 43, 44, 'FizzBuzz', 46, 47, 'Fizz', 49, 'Buzz', 'Fizz', 52, 53, 'Fizz', 'Buzz', 56, 'Fizz', 58, 59, 'FizzBuzz', 61, 62, 'Fizz', 64, 'Buzz', 'Fizz', 67, 68, 'Fizz', 'Buzz', 71, 'Fizz', 73, 74, 'FizzBuzz', 76, 77, 'Fizz', 79, 'Buzz', 'Fizz', 82, 83, 'Fizz', 'Buzz', 86, 'Fizz', 88, 89, 'FizzBuzz', 91, 92, 'Fizz', 94, 'Buzz', 'Fizz', 97, 98, 'Fizz']\n"
     ]
    }
   ],
   "source": [
    "# fizz numbers..\n",
    "list = []\n",
    "for i in range(1, 100):\n",
    "    if i % 3 == 0 and i % 5 == 0:\n",
    "        list.append(\"FizzBuzz\")\n",
    "    elif i % 3 == 0:\n",
    "        list.append(\"Fizz\")\n",
    "    elif i % 5 == 0:\n",
    "        list.append(\"Buzz\")\n",
    "    else:\n",
    "        list.append(i)\n",
    "    \n",
    "print(list)"
   ]
  }
 ],
 "metadata": {
  "kernelspec": {
   "display_name": "Python 3",
   "language": "python",
   "name": "python3"
  },
  "language_info": {
   "codemirror_mode": {
    "name": "ipython",
    "version": 3
   },
   "file_extension": ".py",
   "mimetype": "text/x-python",
   "name": "python",
   "nbconvert_exporter": "python",
   "pygments_lexer": "ipython3",
   "version": "3.9.7"
  }
 },
 "nbformat": 4,
 "nbformat_minor": 2
}
